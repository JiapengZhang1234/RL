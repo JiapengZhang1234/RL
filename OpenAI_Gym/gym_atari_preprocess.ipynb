{
 "cells": [
  {
   "cell_type": "markdown",
   "metadata": {},
   "source": [
    "## OpenAI Gym的数据预处理\n",
    "\n",
    "在使用Gym进行强化学习的训练时，如果使用的是比较复杂的环境，且采用的是图像数据作为环境的观测值。但是这个观测值在DQN的论文中并没有直接去使用，而是进行了数据预处理，让每四张图片生成一个（84,84,4）的tensor。实现这个过程用到了cv2模块，使用这个模块需要安装opencv-python库。\n",
    "\n",
    "实现的步骤如下：   \n",
    "    1. resize：四个图片，每个图片的shape为（210,160,3），resize为（84,84,3）         \n",
    "    2. 灰化：将图像由（84,84,3）化为（84,84,1）      \n",
    "    3. 归一化：数据类型从[0, 255]的unit8，变为[0.0, 1.0]的float32      \n",
    "    4. concat:：将四个图片连接为一个（84,84,4）的tensor。      "
   ]
  },
  {
   "cell_type": "code",
   "execution_count": 1,
   "metadata": {},
   "outputs": [],
   "source": [
    "import cv2\n",
    "import gym\n",
    "import numpy as np\n",
    "import matplotlib.pyplot as plt"
   ]
  },
  {
   "cell_type": "code",
   "execution_count": 2,
   "metadata": {},
   "outputs": [],
   "source": [
    "def imgbuffer_process(imgbuffer,out_shape=(84,84)):\n",
    "    img_list = []\n",
    "    for img in imgbuffer:\n",
    "        #将图片reshape为（84,84,3）\n",
    "        tmp = cv2.resize(src=img, dsize=out_shape)\n",
    "        #将图像化为（84,84,1）的灰度图\n",
    "        tmp = cv2.cvtColor(tmp, cv2.COLOR_BGR2GRAY)\n",
    "        #数据归一化\n",
    "        tmp = cv2.normalize(tmp,tmp,alpha=0.0,beta=1.0,\n",
    "                           norm_type=cv2.NORM_MINMAX,dtype=cv2.CV_32F)\n",
    "        #扩充一个维度\n",
    "        tmp = np.expand_dims(tmp,len(tmp.shape))\n",
    "        img_list.append(tmp)\n",
    "    ret = np.concatenate(tuple(img_list), axis=2)\n",
    "    return ret\n"
   ]
  },
  {
   "cell_type": "code",
   "execution_count": 3,
   "metadata": {},
   "outputs": [],
   "source": [
    "env = gym.make('Breakout-v0')"
   ]
  },
  {
   "cell_type": "code",
   "execution_count": 4,
   "metadata": {},
   "outputs": [
    {
     "data": {
      "text/plain": [
       "Box(210, 160, 3)"
      ]
     },
     "execution_count": 4,
     "metadata": {},
     "output_type": "execute_result"
    }
   ],
   "source": [
    "env.observation_space"
   ]
  },
  {
   "cell_type": "code",
   "execution_count": 5,
   "metadata": {},
   "outputs": [
    {
     "data": {
      "text/plain": [
       "[1, 289714752]"
      ]
     },
     "execution_count": 5,
     "metadata": {},
     "output_type": "execute_result"
    }
   ],
   "source": [
    "env.seed(1)"
   ]
  },
  {
   "cell_type": "code",
   "execution_count": 6,
   "metadata": {},
   "outputs": [
    {
     "data": {
      "text/plain": [
       "210"
      ]
     },
     "execution_count": 6,
     "metadata": {},
     "output_type": "execute_result"
    }
   ],
   "source": [
    "N_F = env.observation_space.shape[0]\n",
    "N_F"
   ]
  },
  {
   "cell_type": "code",
   "execution_count": 7,
   "metadata": {},
   "outputs": [
    {
     "data": {
      "text/plain": [
       "4"
      ]
     },
     "execution_count": 7,
     "metadata": {},
     "output_type": "execute_result"
    }
   ],
   "source": [
    "N_A = env.action_space.n\n",
    "N_A"
   ]
  },
  {
   "cell_type": "code",
   "execution_count": 8,
   "metadata": {},
   "outputs": [],
   "source": [
    "img_buffer = []\n",
    "img_buffer_size = 4"
   ]
  },
  {
   "cell_type": "code",
   "execution_count": 9,
   "metadata": {},
   "outputs": [],
   "source": [
    "s = env.reset()"
   ]
  },
  {
   "cell_type": "code",
   "execution_count": 11,
   "metadata": {},
   "outputs": [
    {
     "name": "stdout",
     "output_type": "stream",
     "text": [
      "img_input_shape = (84, 84, 4)\n"
     ]
    },
    {
     "data": {
      "image/png": "[encoded data removed]",
      "text/plain": [
       "<Figure size 432x288 with 4 Axes>"
      ]
     },
     "metadata": {
      "needs_background": "light"
     },
     "output_type": "display_data"
    },
    {
     "name": "stdout",
     "output_type": "stream",
     "text": [
      "img_input_shape = (84, 84, 4)\n"
     ]
    },
    {
     "data": {
      "image/png": "[encoded data removed]",
      "text/plain": [
       "<Figure size 432x288 with 4 Axes>"
      ]
     },
     "metadata": {
      "needs_background": "light"
     },
     "output_type": "display_data"
    },
    {
     "name": "stdout",
     "output_type": "stream",
     "text": [
      "img_input_shape = (84, 84, 4)\n"
     ]
    },
    {
     "data": {
      "image/png": "[encoded data removed]",
      "text/plain": [
       "<Figure size 432x288 with 4 Axes>"
      ]
     },
     "metadata": {
      "needs_background": "light"
     },
     "output_type": "display_data"
    },
    {
     "name": "stdout",
     "output_type": "stream",
     "text": [
      "img_input_shape = (84, 84, 4)\n"
     ]
    },
    {
     "data": {
      "image/png": "[encoded data removed]",
      "text/plain": [
       "<Figure size 432x288 with 4 Axes>"
      ]
     },
     "metadata": {
      "needs_background": "light"
     },
     "output_type": "display_data"
    }
   ],
   "source": [
    "max_loop = 4\n",
    "for i in range(max_loop):\n",
    "    a = np.random.randint(0,N_A-1)\n",
    "    s_, r, done, info = env.step(a)\n",
    "    #env.render()\n",
    "    \n",
    "    if len(img_buffer) < img_buffer_size:\n",
    "        img_buffer.append(s_)\n",
    "        continue\n",
    "    else:\n",
    "        img_buffer.pop(0)\n",
    "        img_buffer.append(s_)\n",
    "    \n",
    "    img_input = imgbuffer_process(img_buffer)\n",
    "    print('img_input_shape = '+ str(img_input.shape))\n",
    "    \n",
    "    plt.subplot(2,2,1)\n",
    "    plt.imshow(np.uint8(img_input[:,:,0] * 255), cmap='gray')\n",
    "    plt.subplot(2,2,2)\n",
    "    plt.imshow(np.uint8(img_input[:,:,1] * 255), cmap='gray')\n",
    "    plt.subplot(2,2,3)\n",
    "    plt.imshow(np.uint8(img_input[:,:,2] * 255), cmap='gray')\n",
    "    plt.subplot(2,2,4)\n",
    "    plt.imshow(np.uint8(img_input[:,:,3] * 255), cmap='gray')\n",
    "    \n",
    "    plt.show()"
   ]
  },
  {
   "cell_type": "code",
   "execution_count": null,
   "metadata": {},
   "outputs": [],
   "source": []
  },
  {
   "cell_type": "code",
   "execution_count": null,
   "metadata": {},
   "outputs": [],
   "source": []
  },
  {
   "cell_type": "code",
   "execution_count": null,
   "metadata": {},
   "outputs": [],
   "source": []
  }
 ],
 "metadata": {
  "kernelspec": {
   "display_name": "Python 3",
   "language": "python",
   "name": "python3"
  },
  "language_info": {
   "codemirror_mode": {
    "name": "ipython",
    "version": 3
   },
   "file_extension": ".py",
   "mimetype": "text/x-python",
   "name": "python",
   "nbconvert_exporter": "python",
   "pygments_lexer": "ipython3",
   "version": "3.6.10"
  }
 },
 "nbformat": 4,
 "nbformat_minor": 4
}

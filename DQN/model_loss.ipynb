{
 "cells": [
  {
   "cell_type": "code",
   "execution_count": 1,
   "metadata": {},
   "outputs": [
    {
     "name": "stderr",
     "output_type": "stream",
     "text": [
      "Using TensorFlow backend.\n"
     ]
    }
   ],
   "source": [
    "import numpy as np\n",
    "np.random.seed(1337)\n",
    "\n",
    "from keras.datasets import mnist\n",
    "from keras.utils import np_utils\n",
    "from keras.models import Sequential\n",
    "from keras.layers import Dense,Activation,Conv2D,MaxPooling2D,Flatten\n",
    "from keras.optimizers import Adam\n"
   ]
  },
  {
   "cell_type": "code",
   "execution_count": 2,
   "metadata": {},
   "outputs": [],
   "source": [
    "#读取数据\n",
    "(X_train,y_train),(X_test,y_test) = mnist.load_data()\n",
    "\n",
    "#数据预处理\n",
    "X_train = X_train.reshape(-1,1,28,28)\n",
    "X_test = X_test.reshape(-1,1,28,28)\n",
    "y_train = np_utils.to_categorical(y_train,num_classes=10)\n",
    "y_test = np_utils.to_categorical(y_test,num_classes=10)\n"
   ]
  },
  {
   "cell_type": "code",
   "execution_count": 3,
   "metadata": {},
   "outputs": [],
   "source": [
    "#建立卷积神经网络模型\n",
    "model = Sequential()\n",
    "#第一个卷积层的输出是(32,28,28)\n",
    "model.add(Conv2D(32,(5,5),activation='relu',\n",
    "                 input_shape=(1,28,28),padding='same'))\n",
    "#第一个池化层的输出是(32,14,14)\n",
    "model.add(MaxPooling2D(pool_size=(2,2),\n",
    "                       strides=(2,2),\n",
    "                       padding='same'\n",
    "                       ))\n",
    "#第二个卷积层的输出是(64,14,14)\n",
    "model.add(Conv2D(64,(5,5),activation='relu',\n",
    "                 padding='same'))\n",
    "#第二个池化层的输出是(64,7,7)\n",
    "model.add(MaxPooling2D(pool_size=(2,2),\n",
    "                       strides=(2,2),\n",
    "                       padding='same'\n",
    "                       ))\n",
    "#将数据压缩为一层 64*7*7=3136\n",
    "model.add(Flatten()) \n",
    "\n",
    "#第一个全连接层  \n",
    "model.add(Dense(1024))\n",
    "model.add(Activation('relu'))\n",
    "\n",
    "#第二个全连接层\n",
    "model.add(Dense(10))\n",
    "model.add(Activation('softmax'))\n",
    "\n",
    "\n",
    "#先建立优化器备用\n",
    "adam = Adam(lr=1e-4)\n",
    "\n",
    "\n",
    "#模型的损失函数及优化\n",
    "model.compile(optimizer=adam,\n",
    "              loss='categorical_crossentropy',\n",
    "              metrics=['accuracy'])"
   ]
  },
  {
   "cell_type": "code",
   "execution_count": 13,
   "metadata": {},
   "outputs": [
    {
     "name": "stdout",
     "output_type": "stream",
     "text": [
      "Training-----------\n",
      "Epoch 1/1\n",
      "60000/60000 [==============================] - 57s 943us/step - loss: 0.0446 - accuracy: 0.9856\n"
     ]
    }
   ],
   "source": [
    "print('Training-----------')\n",
    "loss = model.fit(X_train,y_train,epochs=1,batch_size=32)"
   ]
  },
  {
   "cell_type": "code",
   "execution_count": 18,
   "metadata": {},
   "outputs": [
    {
     "data": {
      "text/plain": [
       "<keras.callbacks.callbacks.History at 0x133c3198>"
      ]
     },
     "execution_count": 18,
     "metadata": {},
     "output_type": "execute_result"
    }
   ],
   "source": [
    "loss"
   ]
  },
  {
   "cell_type": "code",
   "execution_count": 20,
   "metadata": {},
   "outputs": [
    {
     "data": {
      "text/plain": [
       "[0.04462295316988602]"
      ]
     },
     "execution_count": 20,
     "metadata": {},
     "output_type": "execute_result"
    }
   ],
   "source": [
    "查看损失值\n",
    "loss.history['loss']"
   ]
  },
  {
   "cell_type": "code",
   "execution_count": 24,
   "metadata": {},
   "outputs": [
    {
     "data": {
      "text/plain": [
       "{'loss': [0.04462295316988602], 'accuracy': [0.9856333]}"
      ]
     },
     "execution_count": 24,
     "metadata": {},
     "output_type": "execute_result"
    }
   ],
   "source": [
    "loss.history"
   ]
  },
  {
   "cell_type": "code",
   "execution_count": 8,
   "metadata": {},
   "outputs": [
    {
     "name": "stdout",
     "output_type": "stream",
     "text": [
      "Testing-----------\n",
      "10000/10000 [==============================] - 4s 377us/step\n"
     ]
    }
   ],
   "source": [
    "print('Testing-----------')\n",
    "loss_t,accuracy_t = model.evaluate(X_test,y_test)"
   ]
  },
  {
   "cell_type": "code",
   "execution_count": 9,
   "metadata": {},
   "outputs": [
    {
     "name": "stdout",
     "output_type": "stream",
     "text": [
      "test loss: 0.08821415641070343\n",
      "test accuracy: 0.9747999906539917\n"
     ]
    }
   ],
   "source": [
    "print('test loss:',loss_t)\n",
    "print('test accuracy:',accuracy_t)"
   ]
  },
  {
   "cell_type": "code",
   "execution_count": null,
   "metadata": {},
   "outputs": [],
   "source": []
  },
  {
   "cell_type": "code",
   "execution_count": null,
   "metadata": {},
   "outputs": [],
   "source": []
  }
 ],
 "metadata": {
  "kernelspec": {
   "display_name": "Python 3",
   "language": "python",
   "name": "python3"
  },
  "language_info": {
   "codemirror_mode": {
    "name": "ipython",
    "version": 3
   },
   "file_extension": ".py",
   "mimetype": "text/x-python",
   "name": "python",
   "nbconvert_exporter": "python",
   "pygments_lexer": "ipython3",
   "version": "3.6.10"
  }
 },
 "nbformat": 4,
 "nbformat_minor": 4
}
